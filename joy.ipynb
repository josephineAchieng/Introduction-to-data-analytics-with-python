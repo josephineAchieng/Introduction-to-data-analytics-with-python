{
 "cells": [
  {
   "cell_type": "code",
   "execution_count": 1,
   "id": "b197b5a8-91c7-4732-9e8f-2f19b1020436",
   "metadata": {},
   "outputs": [],
   "source": [
    "def family():\n",
    "    print(\"family\")\n",
    "    "
   ]
  },
  {
   "cell_type": "code",
   "execution_count": 20,
   "id": "ada8275a-aa2f-4698-b93f-b57b3a3c4083",
   "metadata": {},
   "outputs": [],
   "source": [
    "def add(a,b):\n",
    "    result=(a+b)\n",
    "    print(result)\n",
    "    "
   ]
  },
  {
   "cell_type": "code",
   "execution_count": 25,
   "id": "63ea1e63-5291-4911-9b07-4533768d1b83",
   "metadata": {},
   "outputs": [
    {
     "name": "stdout",
     "output_type": "stream",
     "text": [
      "11\n"
     ]
    }
   ],
   "source": [
    "add(5,6)"
   ]
  },
  {
   "cell_type": "code",
   "execution_count": 27,
   "id": "b3ee00b5-cc51-4466-bd54-b22aae795603",
   "metadata": {},
   "outputs": [],
   "source": [
    "def family():\n",
    "    print(\"family\")"
   ]
  },
  {
   "cell_type": "code",
   "execution_count": 29,
   "id": "94c0c08d-9d28-4145-a3c5-56071428bfe8",
   "metadata": {},
   "outputs": [
    {
     "name": "stdout",
     "output_type": "stream",
     "text": [
      "family\n"
     ]
    }
   ],
   "source": [
    "family()"
   ]
  },
  {
   "cell_type": "code",
   "execution_count": 43,
   "id": "630c3536-2fc1-474f-becf-d5194a401514",
   "metadata": {},
   "outputs": [],
   "source": [
    "def call(joke):\n",
    "    print(\"baby\")"
   ]
  },
  {
   "cell_type": "code",
   "execution_count": 45,
   "id": "40c38db5-83bb-4dc9-bf18-f735f92bf621",
   "metadata": {},
   "outputs": [
    {
     "name": "stdout",
     "output_type": "stream",
     "text": [
      "baby\n"
     ]
    }
   ],
   "source": [
    "call(\"j\")"
   ]
  },
  {
   "cell_type": "code",
   "execution_count": 47,
   "id": "d97ce233-9a5e-4373-8442-f288159b7464",
   "metadata": {},
   "outputs": [
    {
     "data": {
      "text/plain": [
       "9"
      ]
     },
     "execution_count": 47,
     "metadata": {},
     "output_type": "execute_result"
    }
   ],
   "source": [
    "max(6,8,9)"
   ]
  },
  {
   "cell_type": "code",
   "execution_count": 49,
   "id": "fa62df00-87ed-4ef3-a8d0-5729c7bfce96",
   "metadata": {},
   "outputs": [
    {
     "data": {
      "text/plain": [
       "6"
      ]
     },
     "execution_count": 49,
     "metadata": {},
     "output_type": "execute_result"
    }
   ],
   "source": [
    "min(6,8,9)"
   ]
  },
  {
   "cell_type": "code",
   "execution_count": 51,
   "id": "2eae5cc6-5388-45ec-abf5-a8b24346b7f5",
   "metadata": {},
   "outputs": [
    {
     "data": {
      "text/plain": [
       "9"
      ]
     },
     "execution_count": 51,
     "metadata": {},
     "output_type": "execute_result"
    }
   ],
   "source": [
    "len(\"josephine\")"
   ]
  },
  {
   "cell_type": "code",
   "execution_count": 55,
   "id": "3163b810-e89d-46e9-8881-815dc629fa33",
   "metadata": {},
   "outputs": [
    {
     "data": {
      "text/plain": [
       "8"
      ]
     },
     "execution_count": 55,
     "metadata": {},
     "output_type": "execute_result"
    }
   ],
   "source": [
    "abs(8)"
   ]
  },
  {
   "cell_type": "raw",
   "id": "92611aca-d9ae-4d80-9494-7822d8c62e86",
   "metadata": {},
   "source": [
    "my_list=[1,2,3,4,5]\n",
    "print(my_list[0])"
   ]
  },
  {
   "cell_type": "code",
   "execution_count": 57,
   "id": "29831a2a-cf51-4ae7-953a-d2e3563901b9",
   "metadata": {},
   "outputs": [
    {
     "data": {
      "text/plain": [
       "'onions'"
      ]
     },
     "execution_count": 57,
     "metadata": {},
     "output_type": "execute_result"
    }
   ],
   "source": [
    "grocery=[\"tomato\",\"garlic\",\"onions\"]\n",
    "grocery[2]"
   ]
  },
  {
   "cell_type": "code",
   "execution_count": 57,
   "id": "a3bb5d2a-6b5d-4ca8-b42d-0aace14be22f",
   "metadata": {},
   "outputs": [
    {
     "data": {
      "text/plain": [
       "'onions'"
      ]
     },
     "execution_count": 57,
     "metadata": {},
     "output_type": "execute_result"
    }
   ],
   "source": [
    "grocery=[\"tomato\",\"garlic\",\"onions\"]\n",
    "grocery[2]"
   ]
  },
  {
   "cell_type": "code",
   "execution_count": 59,
   "id": "6c5ba713-1f65-49f2-bfff-89b323bc5a86",
   "metadata": {},
   "outputs": [
    {
     "name": "stdout",
     "output_type": "stream",
     "text": [
      "tomato\n",
      "garlic\n",
      "onions\n",
      "['tomato', 'garlic', 'onions']\n"
     ]
    }
   ],
   "source": [
    "for item in grocery:\n",
    "    print(item)\n",
    "\n",
    "print(grocery)"
   ]
  },
  {
   "cell_type": "code",
   "execution_count": 67,
   "id": "db9bced9-00e2-442e-bc03-7ae1a0fe5ca3",
   "metadata": {},
   "outputs": [
    {
     "name": "stdout",
     "output_type": "stream",
     "text": [
      "tomato\n",
      "garlic\n",
      "onions\n",
      "['tomato', 'garlic', 'onions']\n"
     ]
    }
   ],
   "source": [
    "grocery=[\"tomato\",\"garlic\",\"onions\"]\n",
    "\n",
    "ind=0\n",
    "for item in grocery:\n",
    "    print(item)\n",
    "    \n",
    "print(grocery)\n"
   ]
  },
  {
   "cell_type": "code",
   "execution_count": 71,
   "id": "48d1d2f9-1841-4aac-8fa3-5fa5eed3499e",
   "metadata": {},
   "outputs": [
    {
     "name": "stdout",
     "output_type": "stream",
     "text": [
      "['tomato', 'garlic', 'onion']\n",
      "['tomato', 'garlic', 'onion']\n",
      "['tomato', 'garlic', 'kitungu']\n"
     ]
    }
   ],
   "source": [
    "grocery=[\"tomato\",\"garlic\",\"onion\"]\n",
    "ind=0\n",
    "for item in grocery:\n",
    "    if item==\"onion\":\n",
    "            grocery[ind]=\"kitungu\"\n",
    "    ind=ind+1\n",
    "    print(grocery)"
   ]
  },
  {
   "cell_type": "code",
   "execution_count": 75,
   "id": "2a316e33-07be-4be9-81e6-6ab10b90a143",
   "metadata": {},
   "outputs": [
    {
     "name": "stdout",
     "output_type": "stream",
     "text": [
      "['tomato', 'garlic', 'kitungu']\n"
     ]
    }
   ],
   "source": [
    "grocery=[\"tomato\",\"garlic\",\"onion\"]\n",
    "ind=0\n",
    "for item in grocery:\n",
    "    if item==\"onion\":\n",
    "            grocery[ind]=\"kitungu\"\n",
    "    ind=ind+1\n",
    "print(grocery)"
   ]
  },
  {
   "cell_type": "code",
   "execution_count": 77,
   "id": "7ee45717-b21f-4840-80fa-357452dfeaf7",
   "metadata": {},
   "outputs": [
    {
     "name": "stdout",
     "output_type": "stream",
     "text": [
      "['tomato', 'garlic', 'kitungu', 'carrot']\n"
     ]
    }
   ],
   "source": [
    "grocery.append(\"carrot\")\n",
    "print(grocery)"
   ]
  },
  {
   "cell_type": "code",
   "execution_count": 89,
   "id": "35807674-df24-4797-b075-6441785bf9af",
   "metadata": {},
   "outputs": [
    {
     "name": "stdout",
     "output_type": "stream",
     "text": [
      "['carrot', 'garlic', 'kitungu', 'tomato']\n"
     ]
    }
   ],
   "source": [
    "grocery.sort()\n",
    "print(grocery)"
   ]
  },
  {
   "cell_type": "code",
   "execution_count": 91,
   "id": "2cf9c54f-4bbf-4e34-bd41-e84b8376ece4",
   "metadata": {},
   "outputs": [
    {
     "name": "stdout",
     "output_type": "stream",
     "text": [
      "['tomato', 'kitungu', 'garlic', 'carrot']\n"
     ]
    }
   ],
   "source": [
    "grocery.reverse()\n",
    "print(grocery)"
   ]
  },
  {
   "cell_type": "code",
   "execution_count": 97,
   "id": "0344be17-3176-496a-ac0f-f8d564d5d9cc",
   "metadata": {},
   "outputs": [
    {
     "name": "stdout",
     "output_type": "stream",
     "text": [
      "['tomato', 'kitungu', 'garlic', 'carrot']\n"
     ]
    }
   ],
   "source": [
    "grocery.copy()\n",
    "print(grocery)\n"
   ]
  },
  {
   "cell_type": "code",
   "execution_count": null,
   "id": "200c225a-e822-44e5-a20f-8341fee3f70c",
   "metadata": {},
   "outputs": [],
   "source": []
  }
 ],
 "metadata": {
  "kernelspec": {
   "display_name": "Python 3 (ipykernel)",
   "language": "python",
   "name": "python3"
  },
  "language_info": {
   "codemirror_mode": {
    "name": "ipython",
    "version": 3
   },
   "file_extension": ".py",
   "mimetype": "text/x-python",
   "name": "python",
   "nbconvert_exporter": "python",
   "pygments_lexer": "ipython3",
   "version": "3.12.4"
  }
 },
 "nbformat": 4,
 "nbformat_minor": 5
}
