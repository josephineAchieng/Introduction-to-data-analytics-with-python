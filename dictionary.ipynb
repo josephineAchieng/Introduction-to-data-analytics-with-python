{
 "cells": [
  {
   "cell_type": "code",
   "execution_count": 33,
   "id": "28dfa468-0d85-410c-95d6-26f9d6e330f7",
   "metadata": {},
   "outputs": [],
   "source": [
    "my_dictionary={\n",
    "    \"name\":[\"person 1,\"\"person 2,\",\"person 3\",\"person 4\",\"person 5\"],\n",
    "    \"age\":[35,100,34,456,67],\n",
    "    \"salary\":[400,500,600,75009,5690],\n",
    "    }   "
   ]
  },
  {
   "cell_type": "code",
   "execution_count": 33,
   "id": "4e1bb3c6-5905-418f-be1c-fdecee77b730",
   "metadata": {},
   "outputs": [],
   "source": [
    "my_dictionary={\n",
    "    \"name\":[\"person 1,\"\"person 2,\",\"person 3\",\"person 4\",\"person 5\"],\n",
    "    \"age\":[35,100,34,456,67],\n",
    "    \"salary\":[400,500,600,75009,5690],\n",
    "    }   "
   ]
  },
  {
   "cell_type": "code",
   "execution_count": 35,
   "id": "e8558aa5-87d7-4eb1-a3ed-b6be12889bbd",
   "metadata": {},
   "outputs": [
    {
     "name": "stdout",
     "output_type": "stream",
     "text": [
      "{'name': ['person 1,person 2,', 'person 3', 'person 4', 'person 5'], 'age': [35, 100, 34, 456, 67], 'salary': [400, 500, 600, 75009, 5690]}\n"
     ]
    }
   ],
   "source": [
    "print(my_dictionary)"
   ]
  },
  {
   "cell_type": "code",
   "execution_count": 37,
   "id": "15f546de-9419-4fb9-8454-a5f34a22c23d",
   "metadata": {},
   "outputs": [
    {
     "name": "stdout",
     "output_type": "stream",
     "text": [
      "name ['person 1,person 2,', 'person 3', 'person 4', 'person 5']\n",
      "age [35, 100, 34, 456, 67]\n",
      "salary [400, 500, 600, 75009, 5690]\n"
     ]
    }
   ],
   "source": [
    "for key,value in my_dictionary.items():\n",
    "    print(key,value)"
   ]
  },
  {
   "cell_type": "code",
   "execution_count": 42,
   "id": "fe679091-8b03-4ed6-b85f-b436d0626476",
   "metadata": {},
   "outputs": [
    {
     "name": "stdout",
     "output_type": "stream",
     "text": [
      "{'name': ['person 1,person 2,', 'person 3', 'person 4', 'person 5'], 'age': [35, 100, 34, 456, 67], 'salary': [400, 500, 600, 75009, 5690], 'location': ['kisumu', 'nakuru', 'mombasa', 'Narok', 'Kericho']}\n"
     ]
    }
   ],
   "source": [
    "print(my_dictionary)"
   ]
  },
  {
   "cell_type": "code",
   "execution_count": 44,
   "id": "ffc2bd29-c483-41ad-9607-4913661e4660",
   "metadata": {},
   "outputs": [],
   "source": [
    "del my_dictionary[\"location\"]"
   ]
  },
  {
   "cell_type": "code",
   "execution_count": 46,
   "id": "f48a88f7-c68d-4b30-a685-5b67b61e00c6",
   "metadata": {},
   "outputs": [
    {
     "name": "stdout",
     "output_type": "stream",
     "text": [
      "{'name': ['person 1,person 2,', 'person 3', 'person 4', 'person 5'], 'age': [35, 100, 34, 456, 67], 'salary': [400, 500, 600, 75009, 5690]}\n"
     ]
    }
   ],
   "source": [
    "print(my_dictionary)"
   ]
  },
  {
   "cell_type": "code",
   "execution_count": 48,
   "id": "be901d66-59bf-4d51-88ee-46224daf5af5",
   "metadata": {},
   "outputs": [],
   "source": [
    "my_dictionary={\n",
    "    \"name\"\"Rich\",\n",
    "    \"age\",32,\n",
    "\"salary\",34500\n",
    "}"
   ]
  },
  {
   "cell_type": "code",
   "execution_count": 50,
   "id": "e363312c-817c-486c-ab53-59c7738840ec",
   "metadata": {},
   "outputs": [
    {
     "name": "stdout",
     "output_type": "stream",
     "text": [
      "{32, 'nameRich', 'age', 'salary', 34500}\n"
     ]
    }
   ],
   "source": [
    "print(my_dictionary)"
   ]
  },
  {
   "cell_type": "code",
   "execution_count": 52,
   "id": "60d56d44-850e-4085-8591-3d5b86acf615",
   "metadata": {},
   "outputs": [],
   "source": [
    "import pandas as pd"
   ]
  },
  {
   "cell_type": "code",
   "execution_count": 54,
   "id": "86df8a85-61d6-41b3-99a2-77a604ac5299",
   "metadata": {},
   "outputs": [
    {
     "data": {
      "text/plain": [
       "{32, 34500, 'age', 'nameRich', 'salary'}"
      ]
     },
     "execution_count": 54,
     "metadata": {},
     "output_type": "execute_result"
    }
   ],
   "source": [
    "my_dictionary"
   ]
  },
  {
   "cell_type": "code",
   "execution_count": 56,
   "id": "10ec1e4b-918f-43c6-9b5f-494a3121fe41",
   "metadata": {},
   "outputs": [],
   "source": [
    "df=pd.DataFrame(my_dictionary)"
   ]
  },
  {
   "cell_type": "code",
   "execution_count": 58,
   "id": "3c75edec-8614-4654-8b20-68beaf20917e",
   "metadata": {},
   "outputs": [
    {
     "data": {
      "text/html": [
       "<div>\n",
       "<style scoped>\n",
       "    .dataframe tbody tr th:only-of-type {\n",
       "        vertical-align: middle;\n",
       "    }\n",
       "\n",
       "    .dataframe tbody tr th {\n",
       "        vertical-align: top;\n",
       "    }\n",
       "\n",
       "    .dataframe thead th {\n",
       "        text-align: right;\n",
       "    }\n",
       "</style>\n",
       "<table border=\"1\" class=\"dataframe\">\n",
       "  <thead>\n",
       "    <tr style=\"text-align: right;\">\n",
       "      <th></th>\n",
       "      <th>0</th>\n",
       "    </tr>\n",
       "  </thead>\n",
       "  <tbody>\n",
       "    <tr>\n",
       "      <th>0</th>\n",
       "      <td>32</td>\n",
       "    </tr>\n",
       "    <tr>\n",
       "      <th>1</th>\n",
       "      <td>nameRich</td>\n",
       "    </tr>\n",
       "    <tr>\n",
       "      <th>2</th>\n",
       "      <td>age</td>\n",
       "    </tr>\n",
       "    <tr>\n",
       "      <th>3</th>\n",
       "      <td>salary</td>\n",
       "    </tr>\n",
       "    <tr>\n",
       "      <th>4</th>\n",
       "      <td>34500</td>\n",
       "    </tr>\n",
       "  </tbody>\n",
       "</table>\n",
       "</div>"
      ],
      "text/plain": [
       "          0\n",
       "0        32\n",
       "1  nameRich\n",
       "2       age\n",
       "3    salary\n",
       "4     34500"
      ]
     },
     "execution_count": 58,
     "metadata": {},
     "output_type": "execute_result"
    }
   ],
   "source": [
    "df"
   ]
  },
  {
   "cell_type": "code",
   "execution_count": null,
   "id": "d0a60618-8836-43ff-a6d2-c761fd9fae4b",
   "metadata": {},
   "outputs": [],
   "source": []
  },
  {
   "cell_type": "code",
   "execution_count": 60,
   "id": "f87ea4ec-c156-4512-9e14-41654e6c771d",
   "metadata": {},
   "outputs": [],
   "source": [
    "my_dictionary={\n",
    "    \"name\":[\"person 1,\"\"person 2,\",\"person 3\",\"person 4\",\"person 5\"],\n",
    "    \"age\":[35,100,34,456,67],\n",
    "    \"salary\":[400,500,600,75009,5690]\n",
    "    }   "
   ]
  },
  {
   "cell_type": "code",
   "execution_count": 159,
   "id": "d5521b1b-43d2-40f2-a2c4-ad0b93b09a6b",
   "metadata": {},
   "outputs": [],
   "source": [
    "import pandas as pd"
   ]
  },
  {
   "cell_type": "code",
   "execution_count": 161,
   "id": "11aa8552-5e0a-4496-ad48-2433158b06de",
   "metadata": {},
   "outputs": [],
   "source": [
    "df=pd.DataFrame(my_dictionary)"
   ]
  },
  {
   "cell_type": "code",
   "execution_count": 163,
   "id": "a0b5e4d6-ff80-449f-a51d-9dd2bb9759da",
   "metadata": {},
   "outputs": [
    {
     "data": {
      "text/html": [
       "<div>\n",
       "<style scoped>\n",
       "    .dataframe tbody tr th:only-of-type {\n",
       "        vertical-align: middle;\n",
       "    }\n",
       "\n",
       "    .dataframe tbody tr th {\n",
       "        vertical-align: top;\n",
       "    }\n",
       "\n",
       "    .dataframe thead th {\n",
       "        text-align: right;\n",
       "    }\n",
       "</style>\n",
       "<table border=\"1\" class=\"dataframe\">\n",
       "  <thead>\n",
       "    <tr style=\"text-align: right;\">\n",
       "      <th></th>\n",
       "      <th>student</th>\n",
       "      <th>Subject</th>\n",
       "    </tr>\n",
       "  </thead>\n",
       "  <tbody>\n",
       "    <tr>\n",
       "      <th>0</th>\n",
       "      <td>Betty</td>\n",
       "      <td>Maths</td>\n",
       "    </tr>\n",
       "    <tr>\n",
       "      <th>1</th>\n",
       "      <td>Kim</td>\n",
       "      <td>Science</td>\n",
       "    </tr>\n",
       "    <tr>\n",
       "      <th>2</th>\n",
       "      <td>Ann</td>\n",
       "      <td>English</td>\n",
       "    </tr>\n",
       "  </tbody>\n",
       "</table>\n",
       "</div>"
      ],
      "text/plain": [
       "  student  Subject\n",
       "0   Betty    Maths\n",
       "1     Kim  Science\n",
       "2     Ann  English"
      ]
     },
     "execution_count": 163,
     "metadata": {},
     "output_type": "execute_result"
    }
   ],
   "source": [
    "df"
   ]
  },
  {
   "cell_type": "code",
   "execution_count": 70,
   "id": "d1b7fc8b-9428-462a-a0e2-72b76a235ead",
   "metadata": {},
   "outputs": [
    {
     "data": {
      "text/plain": [
       "{'name': ['person 1,person 2,', 'person 3', 'person 4', 'person 5'],\n",
       " 'age': [35, 100, 34, 456, 67],\n",
       " 'salary': [400, 500, 600, 75009, 5690]}"
      ]
     },
     "execution_count": 70,
     "metadata": {},
     "output_type": "execute_result"
    }
   ],
   "source": [
    "my_dictionary"
   ]
  },
  {
   "cell_type": "code",
   "execution_count": null,
   "id": "3dd43ef2-a2fc-48fc-b15e-14e6251b9aef",
   "metadata": {},
   "outputs": [],
   "source": []
  },
  {
   "cell_type": "code",
   "execution_count": 74,
   "id": "2d03c9cd-cf1e-4388-89cd-a06587d81262",
   "metadata": {},
   "outputs": [],
   "source": [
    "my_dictionary={\n",
    "    \"Maths\":[50,67,78,78],\n",
    "    \"student\":[\"joy\",\"Mark\",\"mary\",\"peter\"],\n",
    "    \"gender\":[\"female\",\"male\",\"male\",\"female\"]\n",
    "}"
   ]
  },
  {
   "cell_type": "code",
   "execution_count": 76,
   "id": "4c42fe6d-1d6e-41f4-af8c-0d640047ad45",
   "metadata": {},
   "outputs": [
    {
     "data": {
      "text/plain": [
       "{'Maths': [50, 67, 78, 78],\n",
       " 'student': ['joy', 'Mark', 'mary', 'peter'],\n",
       " 'gender': ['female', 'male', 'male', 'female']}"
      ]
     },
     "execution_count": 76,
     "metadata": {},
     "output_type": "execute_result"
    }
   ],
   "source": [
    "my_dictionary"
   ]
  },
  {
   "cell_type": "code",
   "execution_count": 78,
   "id": "54249762-9188-4f60-9bd7-b620a1b9df64",
   "metadata": {},
   "outputs": [],
   "source": [
    "import pandas as pd"
   ]
  },
  {
   "cell_type": "code",
   "execution_count": 80,
   "id": "c35326a6-e092-4cab-a9e7-c81d800beaab",
   "metadata": {},
   "outputs": [],
   "source": [
    "df=pd.DataFrame(my_dictionary)"
   ]
  },
  {
   "cell_type": "code",
   "execution_count": 82,
   "id": "b79928e0-7b86-4728-b463-2ebbfda15f9c",
   "metadata": {},
   "outputs": [
    {
     "data": {
      "text/html": [
       "<div>\n",
       "<style scoped>\n",
       "    .dataframe tbody tr th:only-of-type {\n",
       "        vertical-align: middle;\n",
       "    }\n",
       "\n",
       "    .dataframe tbody tr th {\n",
       "        vertical-align: top;\n",
       "    }\n",
       "\n",
       "    .dataframe thead th {\n",
       "        text-align: right;\n",
       "    }\n",
       "</style>\n",
       "<table border=\"1\" class=\"dataframe\">\n",
       "  <thead>\n",
       "    <tr style=\"text-align: right;\">\n",
       "      <th></th>\n",
       "      <th>Maths</th>\n",
       "      <th>student</th>\n",
       "      <th>gender</th>\n",
       "    </tr>\n",
       "  </thead>\n",
       "  <tbody>\n",
       "    <tr>\n",
       "      <th>0</th>\n",
       "      <td>50</td>\n",
       "      <td>joy</td>\n",
       "      <td>female</td>\n",
       "    </tr>\n",
       "    <tr>\n",
       "      <th>1</th>\n",
       "      <td>67</td>\n",
       "      <td>Mark</td>\n",
       "      <td>male</td>\n",
       "    </tr>\n",
       "    <tr>\n",
       "      <th>2</th>\n",
       "      <td>78</td>\n",
       "      <td>mary</td>\n",
       "      <td>male</td>\n",
       "    </tr>\n",
       "    <tr>\n",
       "      <th>3</th>\n",
       "      <td>78</td>\n",
       "      <td>peter</td>\n",
       "      <td>female</td>\n",
       "    </tr>\n",
       "  </tbody>\n",
       "</table>\n",
       "</div>"
      ],
      "text/plain": [
       "   Maths student  gender\n",
       "0     50     joy  female\n",
       "1     67    Mark    male\n",
       "2     78    mary    male\n",
       "3     78   peter  female"
      ]
     },
     "execution_count": 82,
     "metadata": {},
     "output_type": "execute_result"
    }
   ],
   "source": [
    "df"
   ]
  },
  {
   "cell_type": "code",
   "execution_count": 84,
   "id": "cb158747-53b8-443a-9b1f-69d2724f0d0e",
   "metadata": {},
   "outputs": [
    {
     "data": {
      "text/plain": [
       "0      joy\n",
       "1     Mark\n",
       "2     mary\n",
       "3    peter\n",
       "Name: student, dtype: object"
      ]
     },
     "execution_count": 84,
     "metadata": {},
     "output_type": "execute_result"
    }
   ],
   "source": [
    "df[\"student\"]"
   ]
  },
  {
   "cell_type": "code",
   "execution_count": 92,
   "id": "56269548-8854-4d1b-913d-4d38df69e390",
   "metadata": {},
   "outputs": [
    {
     "data": {
      "text/html": [
       "<div>\n",
       "<style scoped>\n",
       "    .dataframe tbody tr th:only-of-type {\n",
       "        vertical-align: middle;\n",
       "    }\n",
       "\n",
       "    .dataframe tbody tr th {\n",
       "        vertical-align: top;\n",
       "    }\n",
       "\n",
       "    .dataframe thead th {\n",
       "        text-align: right;\n",
       "    }\n",
       "</style>\n",
       "<table border=\"1\" class=\"dataframe\">\n",
       "  <thead>\n",
       "    <tr style=\"text-align: right;\">\n",
       "      <th></th>\n",
       "      <th>Maths</th>\n",
       "      <th>gender</th>\n",
       "    </tr>\n",
       "  </thead>\n",
       "  <tbody>\n",
       "    <tr>\n",
       "      <th>0</th>\n",
       "      <td>50</td>\n",
       "      <td>female</td>\n",
       "    </tr>\n",
       "    <tr>\n",
       "      <th>1</th>\n",
       "      <td>67</td>\n",
       "      <td>male</td>\n",
       "    </tr>\n",
       "    <tr>\n",
       "      <th>2</th>\n",
       "      <td>78</td>\n",
       "      <td>male</td>\n",
       "    </tr>\n",
       "    <tr>\n",
       "      <th>3</th>\n",
       "      <td>78</td>\n",
       "      <td>female</td>\n",
       "    </tr>\n",
       "  </tbody>\n",
       "</table>\n",
       "</div>"
      ],
      "text/plain": [
       "   Maths  gender\n",
       "0     50  female\n",
       "1     67    male\n",
       "2     78    male\n",
       "3     78  female"
      ]
     },
     "execution_count": 92,
     "metadata": {},
     "output_type": "execute_result"
    }
   ],
   "source": [
    "df[[\"Maths\",\"gender\"]]"
   ]
  },
  {
   "cell_type": "code",
   "execution_count": 94,
   "id": "9152c078-8c9e-4305-b47f-15c527946ce4",
   "metadata": {},
   "outputs": [
    {
     "data": {
      "text/plain": [
       "0    55\n",
       "1    72\n",
       "2    83\n",
       "3    83\n",
       "Name: Maths, dtype: int64"
      ]
     },
     "execution_count": 94,
     "metadata": {},
     "output_type": "execute_result"
    }
   ],
   "source": [
    "df[\"Maths\"]+5"
   ]
  },
  {
   "cell_type": "code",
   "execution_count": 96,
   "id": "fd66657c-bbfa-49f9-8d08-22ee0cc3bc64",
   "metadata": {},
   "outputs": [
    {
     "data": {
      "text/plain": [
       "Maths       int64\n",
       "student    object\n",
       "gender     object\n",
       "dtype: object"
      ]
     },
     "execution_count": 96,
     "metadata": {},
     "output_type": "execute_result"
    }
   ],
   "source": [
    "df.dtypes"
   ]
  },
  {
   "cell_type": "code",
   "execution_count": 149,
   "id": "edd47051-705b-43f4-8980-6ef780e7097a",
   "metadata": {},
   "outputs": [],
   "source": [
    "student_scores={\n",
    "\"student\":[\"student 1\",\"student 2\",\"student 3\"],\n",
    "\"Maths\":[70,67,45],\n",
    "\"English\":[45,56,90],\n",
    "\"Science\":[60,56,70]\n",
    "}"
   ]
  },
  {
   "cell_type": "code",
   "execution_count": 151,
   "id": "45f65404-4bff-433b-bb87-4d6fb57c770d",
   "metadata": {},
   "outputs": [],
   "source": [
    "df = pd.DataFrame(student_scores)"
   ]
  },
  {
   "cell_type": "code",
   "execution_count": 153,
   "id": "8f04aaf4-5f15-46b8-a23c-191ee7c25352",
   "metadata": {},
   "outputs": [
    {
     "data": {
      "text/html": [
       "<div>\n",
       "<style scoped>\n",
       "    .dataframe tbody tr th:only-of-type {\n",
       "        vertical-align: middle;\n",
       "    }\n",
       "\n",
       "    .dataframe tbody tr th {\n",
       "        vertical-align: top;\n",
       "    }\n",
       "\n",
       "    .dataframe thead th {\n",
       "        text-align: right;\n",
       "    }\n",
       "</style>\n",
       "<table border=\"1\" class=\"dataframe\">\n",
       "  <thead>\n",
       "    <tr style=\"text-align: right;\">\n",
       "      <th></th>\n",
       "      <th>student</th>\n",
       "      <th>Maths</th>\n",
       "      <th>English</th>\n",
       "      <th>Science</th>\n",
       "    </tr>\n",
       "  </thead>\n",
       "  <tbody>\n",
       "    <tr>\n",
       "      <th>0</th>\n",
       "      <td>student 1</td>\n",
       "      <td>70</td>\n",
       "      <td>45</td>\n",
       "      <td>60</td>\n",
       "    </tr>\n",
       "    <tr>\n",
       "      <th>1</th>\n",
       "      <td>student 2</td>\n",
       "      <td>67</td>\n",
       "      <td>56</td>\n",
       "      <td>56</td>\n",
       "    </tr>\n",
       "    <tr>\n",
       "      <th>2</th>\n",
       "      <td>student 3</td>\n",
       "      <td>45</td>\n",
       "      <td>90</td>\n",
       "      <td>70</td>\n",
       "    </tr>\n",
       "  </tbody>\n",
       "</table>\n",
       "</div>"
      ],
      "text/plain": [
       "     student  Maths  English  Science\n",
       "0  student 1     70       45       60\n",
       "1  student 2     67       56       56\n",
       "2  student 3     45       90       70"
      ]
     },
     "execution_count": 153,
     "metadata": {},
     "output_type": "execute_result"
    }
   ],
   "source": [
    "df"
   ]
  },
  {
   "cell_type": "code",
   "execution_count": 169,
   "id": "90967f53-d1f3-46d1-8d4e-437eee987dae",
   "metadata": {},
   "outputs": [
    {
     "data": {
      "text/plain": [
       "student    object\n",
       "Subject    object\n",
       "dtype: object"
      ]
     },
     "execution_count": 169,
     "metadata": {},
     "output_type": "execute_result"
    }
   ],
   "source": [
    "df.dtypes"
   ]
  },
  {
   "cell_type": "code",
   "execution_count": null,
   "id": "fdacd8b8-ee10-4b16-86e8-a50594bede6f",
   "metadata": {},
   "outputs": [],
   "source": []
  }
 ],
 "metadata": {
  "kernelspec": {
   "display_name": "Python 3 (ipykernel)",
   "language": "python",
   "name": "python3"
  },
  "language_info": {
   "codemirror_mode": {
    "name": "ipython",
    "version": 3
   },
   "file_extension": ".py",
   "mimetype": "text/x-python",
   "name": "python",
   "nbconvert_exporter": "python",
   "pygments_lexer": "ipython3",
   "version": "3.12.4"
  }
 },
 "nbformat": 4,
 "nbformat_minor": 5
}
